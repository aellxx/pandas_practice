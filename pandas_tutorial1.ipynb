{
 "cells": [
  {
   "cell_type": "code",
   "execution_count": 1,
   "id": "482a7d3d",
   "metadata": {},
   "outputs": [],
   "source": [
    "# importing the panda module\n",
    "import pandas as pd"
   ]
  },
  {
   "cell_type": "code",
   "execution_count": null,
   "id": "4025dbf0",
   "metadata": {},
   "outputs": [],
   "source": [
    "# DataFrame: two dimensional data frame\n",
    "# parameter: a dictionary of lists\n",
    "\n",
    "hogwarts = pd.DataFrame(\n",
    "    {\n",
    "        \"Name\": [\"Harry Potter\", \"Draco Malfoy\", \"Luna Lovegood\", \"Cedric Diggory\"],\n",
    "        \"House\": [\"Gryffindor\", \"Slytherin\", \"Ravenclaw\", \"Hufflepuff\"],\n",
    "        \"Year\": [4, 4, 3, 7]\n",
    "    }\n",
    ")"
   ]
  },
  {
   "cell_type": "code",
   "execution_count": 4,
   "id": "828b3d84",
   "metadata": {
    "scrolled": false
   },
   "outputs": [
    {
     "data": {
      "text/html": [
       "<div>\n",
       "<style scoped>\n",
       "    .dataframe tbody tr th:only-of-type {\n",
       "        vertical-align: middle;\n",
       "    }\n",
       "\n",
       "    .dataframe tbody tr th {\n",
       "        vertical-align: top;\n",
       "    }\n",
       "\n",
       "    .dataframe thead th {\n",
       "        text-align: right;\n",
       "    }\n",
       "</style>\n",
       "<table border=\"1\" class=\"dataframe\">\n",
       "  <thead>\n",
       "    <tr style=\"text-align: right;\">\n",
       "      <th></th>\n",
       "      <th>Name</th>\n",
       "      <th>House</th>\n",
       "      <th>Year</th>\n",
       "    </tr>\n",
       "  </thead>\n",
       "  <tbody>\n",
       "    <tr>\n",
       "      <th>0</th>\n",
       "      <td>Harry Potter</td>\n",
       "      <td>Gryffindor</td>\n",
       "      <td>4</td>\n",
       "    </tr>\n",
       "    <tr>\n",
       "      <th>1</th>\n",
       "      <td>Draco Malfoy</td>\n",
       "      <td>Slytherin</td>\n",
       "      <td>4</td>\n",
       "    </tr>\n",
       "    <tr>\n",
       "      <th>2</th>\n",
       "      <td>Luna Lovegood</td>\n",
       "      <td>Ravenclaw</td>\n",
       "      <td>3</td>\n",
       "    </tr>\n",
       "    <tr>\n",
       "      <th>3</th>\n",
       "      <td>Cedric Diggory</td>\n",
       "      <td>Hufflepuff</td>\n",
       "      <td>7</td>\n",
       "    </tr>\n",
       "  </tbody>\n",
       "</table>\n",
       "</div>"
      ],
      "text/plain": [
       "             Name       House  Year\n",
       "0    Harry Potter  Gryffindor     4\n",
       "1    Draco Malfoy   Slytherin     4\n",
       "2   Luna Lovegood   Ravenclaw     3\n",
       "3  Cedric Diggory  Hufflepuff     7"
      ]
     },
     "execution_count": 4,
     "metadata": {},
     "output_type": "execute_result"
    }
   ],
   "source": [
    "hogwarts"
   ]
  },
  {
   "cell_type": "code",
   "execution_count": 5,
   "id": "2f099f76",
   "metadata": {},
   "outputs": [
    {
     "data": {
      "text/plain": [
       "0    Gryffindor\n",
       "1     Slytherin\n",
       "2     Ravenclaw\n",
       "3    Hufflepuff\n",
       "Name: House, dtype: object"
      ]
     },
     "execution_count": 5,
     "metadata": {},
     "output_type": "execute_result"
    }
   ],
   "source": [
    "# Series: Each column in a data frame\n",
    "# Similar to selecting the values with a key (py dictionaries)\n",
    "hogwarts[\"House\"]"
   ]
  },
  {
   "cell_type": "code",
   "execution_count": 6,
   "id": "e6e6ab13",
   "metadata": {},
   "outputs": [],
   "source": [
    "# manually creating a series using pd.Series\n",
    "# @param: a list of values\n",
    "# @param: name, the name of the column\n",
    "wand_core = pd.Series([\"Phoenix Feather\",\"Unicorn Hair\",\n",
    "                       \"Unknown\", \"Unicorn Hair\"], name=\"Wand Core\")"
   ]
  },
  {
   "cell_type": "code",
   "execution_count": 7,
   "id": "c64af0b2",
   "metadata": {
    "scrolled": true
   },
   "outputs": [
    {
     "data": {
      "text/plain": [
       "0    Phoenix Feather\n",
       "1       Unicorn Hair\n",
       "2            Unknown\n",
       "3       Unicorn Hair\n",
       "Name: Wand Core, dtype: object"
      ]
     },
     "execution_count": 7,
     "metadata": {},
     "output_type": "execute_result"
    }
   ],
   "source": [
    "# has no column labels\n",
    "# only row labels\n",
    "wand_core"
   ]
  },
  {
   "cell_type": "code",
   "execution_count": 8,
   "id": "bd066050",
   "metadata": {},
   "outputs": [
    {
     "data": {
      "text/plain": [
       "7"
      ]
     },
     "execution_count": 8,
     "metadata": {},
     "output_type": "execute_result"
    }
   ],
   "source": [
    "# maximum value\n",
    "hogwarts[\"Year\"].max()"
   ]
  },
  {
   "cell_type": "code",
   "execution_count": 9,
   "id": "1fab08c6",
   "metadata": {},
   "outputs": [
    {
     "data": {
      "text/html": [
       "<div>\n",
       "<style scoped>\n",
       "    .dataframe tbody tr th:only-of-type {\n",
       "        vertical-align: middle;\n",
       "    }\n",
       "\n",
       "    .dataframe tbody tr th {\n",
       "        vertical-align: top;\n",
       "    }\n",
       "\n",
       "    .dataframe thead th {\n",
       "        text-align: right;\n",
       "    }\n",
       "</style>\n",
       "<table border=\"1\" class=\"dataframe\">\n",
       "  <thead>\n",
       "    <tr style=\"text-align: right;\">\n",
       "      <th></th>\n",
       "      <th>Year</th>\n",
       "    </tr>\n",
       "  </thead>\n",
       "  <tbody>\n",
       "    <tr>\n",
       "      <th>count</th>\n",
       "      <td>4.000000</td>\n",
       "    </tr>\n",
       "    <tr>\n",
       "      <th>mean</th>\n",
       "      <td>4.500000</td>\n",
       "    </tr>\n",
       "    <tr>\n",
       "      <th>std</th>\n",
       "      <td>1.732051</td>\n",
       "    </tr>\n",
       "    <tr>\n",
       "      <th>min</th>\n",
       "      <td>3.000000</td>\n",
       "    </tr>\n",
       "    <tr>\n",
       "      <th>25%</th>\n",
       "      <td>3.750000</td>\n",
       "    </tr>\n",
       "    <tr>\n",
       "      <th>50%</th>\n",
       "      <td>4.000000</td>\n",
       "    </tr>\n",
       "    <tr>\n",
       "      <th>75%</th>\n",
       "      <td>4.750000</td>\n",
       "    </tr>\n",
       "    <tr>\n",
       "      <th>max</th>\n",
       "      <td>7.000000</td>\n",
       "    </tr>\n",
       "  </tbody>\n",
       "</table>\n",
       "</div>"
      ],
      "text/plain": [
       "           Year\n",
       "count  4.000000\n",
       "mean   4.500000\n",
       "std    1.732051\n",
       "min    3.000000\n",
       "25%    3.750000\n",
       "50%    4.000000\n",
       "75%    4.750000\n",
       "max    7.000000"
      ]
     },
     "execution_count": 9,
     "metadata": {},
     "output_type": "execute_result"
    }
   ],
   "source": [
    "# printing out basic information\n",
    "hogwarts.describe()"
   ]
  }
 ],
 "metadata": {
  "kernelspec": {
   "display_name": "Python 3",
   "language": "python",
   "name": "python3"
  },
  "language_info": {
   "codemirror_mode": {
    "name": "ipython",
    "version": 3
   },
   "file_extension": ".py",
   "mimetype": "text/x-python",
   "name": "python",
   "nbconvert_exporter": "python",
   "pygments_lexer": "ipython3",
   "version": "3.8.8"
  }
 },
 "nbformat": 4,
 "nbformat_minor": 5
}
